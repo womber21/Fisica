{
  "cells": [
    {
      "cell_type": "markdown",
      "metadata": {
        "colab_type": "text",
        "id": "view-in-github"
      },
      "source": [
        "<a href=\"https://colab.research.google.com/github/womber21/Fisica/blob/main/FSemico_JC_FB.ipynb\" target=\"_parent\"><img src=\"https://colab.research.google.com/assets/colab-badge.svg\" alt=\"Open In Colab\"/></a>"
      ]
    },
    {
      "cell_type": "markdown",
      "metadata": {
        "id": "yNhaUW73WO5V"
      },
      "source": [
        "<center>\n",
        "<img src=\"https://www.udistrital.edu.co/themes/custom/versh/logo.png\">\n",
        "\n",
        "# **Facultad de Ingenierìa - Ingeniería Electrónica**\n",
        "\n",
        "## **Física de Semiconductores**\n",
        "\n",
        "<img src=\"https://encrypted-tbn0.gstatic.com/images?q=tbn:ANd9GcSroaa8eqXbRvdqNYCy39ddOTXm87L4u9D4ew&usqp=CAU\">\n",
        "\n",
        "Créditos: @Prof.Feynman\n",
        "\n",
        "## **Profesor Pedro Ignacio Deaza**\n",
        "\n"
      ]
    },
    {
      "cell_type": "markdown",
      "metadata": {
        "id": "z0S4xj97WtGL"
      },
      "source": [
        "<center>\n",
        "\n",
        "# **Cuaderno Fisica de Semiconductores**\n",
        "\n",
        "##**Juan Sebastian Caliman Garcia**\n",
        "##**20181005127**\n",
        "## **[jscalimang@udistrital.edu.co](https://)**\n",
        "\n",
        "##**Federico Alonso Bermudez Avila**\n",
        "##**20181005035**\n",
        "## **[fabermudeza@udistrital.edu.co](https://)**\n"
      ]
    },
    {
      "cell_type": "markdown",
      "metadata": {
        "id": "ndK63137XcMw"
      },
      "source": [
        "\n",
        "# **<font color='red'>Radiacion Electromagnetica</font>** fede\n"
      ]
    },
    {
      "cell_type": "markdown",
      "metadata": {
        "id": "S4uBXvwwZEkH"
      },
      "source": [
        "\n",
        "\n",
        "## **Explicación Matemática** (breve descripcion, ecuaciones representativas y graficas pertinentes)\n",
        "\n"
      ]
    },
    {
      "cell_type": "code",
      "execution_count": 4,
      "metadata": {},
      "outputs": [],
      "source": [
        "import numpy as np"
      ]
    },
    {
      "cell_type": "markdown",
      "metadata": {
        "id": "X8pMOA7MZ4et"
      },
      "source": [
        "# **<font color='red'>Cuerpo Negro</font>** sebas"
      ]
    },
    {
      "cell_type": "markdown",
      "metadata": {
        "id": "v8hZBb3JaI5F"
      },
      "source": [
        "## **Explicación Matemática**"
      ]
    },
    {
      "cell_type": "markdown",
      "metadata": {
        "id": "8W-INH1gaUWy"
      },
      "source": [
        "# **<font color='red'>Catástrofe ultra violeta</font>** sebas"
      ]
    },
    {
      "cell_type": "markdown",
      "metadata": {
        "id": "xN95vc83anNd"
      },
      "source": [
        "## **Explicación Matemática**"
      ]
    },
    {
      "cell_type": "markdown",
      "metadata": {
        "id": "Y2EdMskhbCZt"
      },
      "source": [
        "# **<font color='red'>Efécto foto eléctrico</font>** Fede"
      ]
    },
    {
      "cell_type": "markdown",
      "metadata": {
        "id": "95Bpl2GVbNRt"
      },
      "source": [
        "## **Explicación Matemática**"
      ]
    },
    {
      "cell_type": "markdown",
      "metadata": {
        "id": "a54qnVdPbXLe"
      },
      "source": [
        "# **<font color='red'>Efécto Compton</font>** Fede"
      ]
    },
    {
      "cell_type": "markdown",
      "metadata": {
        "id": "sGlR0-j9bjL1"
      },
      "source": [
        "## **Explicación Matemática**"
      ]
    },
    {
      "cell_type": "markdown",
      "metadata": {
        "id": "9midEtWZblhd"
      },
      "source": [
        "# **<font color='red'>Experimento de Frank Herz</font>** sebas"
      ]
    },
    {
      "cell_type": "markdown",
      "metadata": {
        "id": "SpqvKH7XbsZW"
      },
      "source": [
        "## **Explicación Matemática**"
      ]
    },
    {
      "cell_type": "markdown",
      "metadata": {
        "id": "gpgSWQsibwn9"
      },
      "source": [
        "# **<font color='red'>Modelo atómico de bohr</font>** sebas\n",
        "\n",
        "\n",
        "\n"
      ]
    }
  ],
  "metadata": {
    "colab": {
      "include_colab_link": true,
      "provenance": [],
      "toc_visible": true
    },
    "kernelspec": {
      "display_name": "Python 3",
      "name": "python3"
    },
    "language_info": {
      "codemirror_mode": {
        "name": "ipython",
        "version": 3
      },
      "file_extension": ".py",
      "mimetype": "text/x-python",
      "name": "python",
      "nbconvert_exporter": "python",
      "pygments_lexer": "ipython3",
      "version": "3.10.11"
    }
  },
  "nbformat": 4,
  "nbformat_minor": 0
}
