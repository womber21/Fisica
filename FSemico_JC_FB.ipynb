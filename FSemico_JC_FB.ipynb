{
  "nbformat": 4,
  "nbformat_minor": 0,
  "metadata": {
    "colab": {
      "provenance": [],
      "toc_visible": true,
      "include_colab_link": true
    },
    "kernelspec": {
      "name": "python3",
      "display_name": "Python 3"
    },
    "language_info": {
      "name": "python"
    }
  },
  "cells": [
    {
      "cell_type": "markdown",
      "metadata": {
        "id": "view-in-github",
        "colab_type": "text"
      },
      "source": [
        "<a href=\"https://colab.research.google.com/github/womber21/Fisica/blob/main/FSemico_JC_FB.ipynb\" target=\"_parent\"><img src=\"https://colab.research.google.com/assets/colab-badge.svg\" alt=\"Open In Colab\"/></a>"
      ]
    },
    {
      "cell_type": "markdown",
      "source": [
        "<center>\n",
        "<img src=\"https://www.udistrital.edu.co/themes/custom/versh/logo.png\">\n",
        "\n",
        "# **Facultad de Ingenierìa - Ingeniería Electrónica**\n",
        "\n",
        "## **Física de Semiconductores**\n",
        "\n",
        "<img src=\"https://encrypted-tbn0.gstatic.com/images?q=tbn:ANd9GcSroaa8eqXbRvdqNYCy39ddOTXm87L4u9D4ew&usqp=CAU\">\n",
        "\n",
        "Créditos: @Prof.Feynman\n",
        "\n",
        "## **Profesor Pedro Ignacio Deaza**\n",
        "\n"
      ],
      "metadata": {
        "id": "yNhaUW73WO5V"
      }
    },
    {
      "cell_type": "markdown",
      "source": [
        "<center>\n",
        "\n",
        "# **Cuaderno Fisica de Semiconductores**\n",
        "\n",
        "##**Juan Sebastian Caliman Garcia**\n",
        "##**20181005127**\n",
        "## **[jscalimang@udistrital.edu.co](https://)**\n",
        "\n",
        "##**Federico Alonso Bermudez Avila**\n",
        "##**20181005035**\n",
        "## **[fabermudeza@udistrital.edu.co](https://)**\n"
      ],
      "metadata": {
        "id": "z0S4xj97WtGL"
      }
    },
    {
      "cell_type": "markdown",
      "source": [
        "\n",
        "#  **<font color='red'>Radiacion Electromagnetica</font>**fede\n"
      ],
      "metadata": {
        "id": "ndK63137XcMw"
      }
    },
    {
      "cell_type": "markdown",
      "source": [
        "\n",
        "\n",
        "## **Explicación Matemática** (breve descripcion, ecuaciones representativas y graficas pertinentes)\n",
        "\n"
      ],
      "metadata": {
        "id": "S4uBXvwwZEkH"
      }
    },
    {
      "cell_type": "markdown",
      "source": [
        "#**<font color='red'>Cuerpo Negro</font>** sebas"
      ],
      "metadata": {
        "id": "X8pMOA7MZ4et"
      }
    },
    {
      "cell_type": "markdown",
      "source": [
        "## **Explicación Matemática**"
      ],
      "metadata": {
        "id": "v8hZBb3JaI5F"
      }
    },
    {
      "cell_type": "markdown",
      "source": [
        "#**<font color='red'>Catástrofe ultra violeta</font>** sebas"
      ],
      "metadata": {
        "id": "8W-INH1gaUWy"
      }
    },
    {
      "cell_type": "markdown",
      "source": [
        "## **Explicación Matemática**"
      ],
      "metadata": {
        "id": "xN95vc83anNd"
      }
    },
    {
      "cell_type": "markdown",
      "source": [
        "#**<font color='red'>Efécto foto eléctrico</font>** Fede"
      ],
      "metadata": {
        "id": "Y2EdMskhbCZt"
      }
    },
    {
      "cell_type": "markdown",
      "source": [
        "## **Explicación Matemática**"
      ],
      "metadata": {
        "id": "95Bpl2GVbNRt"
      }
    },
    {
      "cell_type": "markdown",
      "source": [
        "#**<font color='red'>Efécto Compton</font>** Fede"
      ],
      "metadata": {
        "id": "a54qnVdPbXLe"
      }
    },
    {
      "cell_type": "markdown",
      "source": [
        "## **Explicación Matemática**"
      ],
      "metadata": {
        "id": "sGlR0-j9bjL1"
      }
    },
    {
      "cell_type": "markdown",
      "source": [
        "#**<font color='red'>Experimento de Frank Herz</font>** sebas"
      ],
      "metadata": {
        "id": "9midEtWZblhd"
      }
    },
    {
      "cell_type": "markdown",
      "source": [
        "## **Explicación Matemática**"
      ],
      "metadata": {
        "id": "SpqvKH7XbsZW"
      }
    },
    {
      "cell_type": "markdown",
      "source": [
        "#**<font color='red'>Modelo atómico de bohr</font>** sebas\n",
        "\n",
        "> Bloque con sangría\n",
        "\n"
      ],
      "metadata": {
        "id": "gpgSWQsibwn9"
      }
    }
  ]
}